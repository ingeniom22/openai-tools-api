{
 "cells": [
  {
   "cell_type": "code",
   "execution_count": null,
   "metadata": {},
   "outputs": [
    {
     "ename": "TypeError",
     "evalue": "search_ekatalog() takes 1 positional argument but 2 were given",
     "output_type": "error",
     "traceback": [
      "\u001b[1;31m---------------------------------------------------------------------------\u001b[0m",
      "\u001b[1;31mTypeError\u001b[0m                                 Traceback (most recent call last)",
      "Cell \u001b[1;32mIn[6], line 37\u001b[0m\n\u001b[0;32m     31\u001b[0m     response \u001b[38;5;241m=\u001b[39m requests\u001b[38;5;241m.\u001b[39mget(url, params\u001b[38;5;241m=\u001b[39mparams, headers\u001b[38;5;241m=\u001b[39mheaders)\n\u001b[0;32m     33\u001b[0m     \u001b[38;5;28;01mreturn\u001b[39;00m response\n\u001b[1;32m---> 37\u001b[0m response \u001b[38;5;241m=\u001b[39m \u001b[43msearch_ekatalog\u001b[49m\u001b[43m(\u001b[49m\u001b[38;5;124;43m\"\u001b[39;49m\u001b[38;5;124;43mbus\u001b[39;49m\u001b[38;5;124;43m\"\u001b[39;49m\u001b[43m,\u001b[49m\u001b[43m \u001b[49m\u001b[38;5;241;43m12\u001b[39;49m\u001b[43m)\u001b[49m\n\u001b[0;32m     38\u001b[0m \u001b[38;5;28mprint\u001b[39m(\u001b[38;5;124mf\u001b[39m\u001b[38;5;124m\"\u001b[39m\u001b[38;5;124mStatus Code: \u001b[39m\u001b[38;5;132;01m{\u001b[39;00mresponse\u001b[38;5;241m.\u001b[39mstatus_code\u001b[38;5;132;01m}\u001b[39;00m\u001b[38;5;124m\"\u001b[39m)\n\u001b[0;32m     39\u001b[0m \u001b[38;5;28mprint\u001b[39m(\u001b[38;5;124mf\u001b[39m\u001b[38;5;124m\"\u001b[39m\u001b[38;5;124mResponse: \u001b[39m\u001b[38;5;132;01m{\u001b[39;00mresponse\u001b[38;5;241m.\u001b[39mtext\u001b[38;5;132;01m}\u001b[39;00m\u001b[38;5;124m\"\u001b[39m)\n",
      "\u001b[1;31mTypeError\u001b[0m: search_ekatalog() takes 1 positional argument but 2 were given"
     ]
    }
   ],
   "source": [
    "from bs4 import BeautifulSoup\n",
    "import requests\n",
    "\n",
    "\n",
    "def search_ekatalog(query: str):\n",
    "    url = \"https://e-katalog.lkpp.go.id/id/search-produk\"\n",
    "\n",
    "    # Query parameters\n",
    "    params = {\"q\": query, \"order\": \"relevance\", \"limit\": \"100\", \"offset\": \"0\"}\n",
    "\n",
    "    # Headers\n",
    "    headers = {\n",
    "        \"authority\": \"e-katalog.lkpp.go.id\",\n",
    "        \"accept\": \"text/html,application/xhtml+xml,application/xml;q=0.9,image/avif,image/webp,image/apng,*/*;q=0.8,application/signed-exchange;v=b3;q=0.7\",\n",
    "        \"accept-encoding\": \"gzip, deflate, br, zstd\",\n",
    "        \"accept-language\": \"en-US,en;q=0.9,id;q=0.8\",\n",
    "        \"cache-control\": \"max-age=0\",\n",
    "        \"priority\": \"u=0, i\",\n",
    "        \"referer\": f\"https://e-katalog.lkpp.go.id/id/search-produk?q={query}&order=relevance\",\n",
    "        \"sec-ch-ua\": '\"Google Chrome\";v=\"131\", \"Chromium\";v=\"131\", \"Not_A Brand\";v=\"24\"',\n",
    "        \"sec-ch-ua-mobile\": \"?1\",\n",
    "        \"sec-ch-ua-platform\": '\"Android\"',\n",
    "        \"sec-fetch-dest\": \"document\",\n",
    "        \"sec-fetch-mode\": \"navigate\",\n",
    "        \"sec-fetch-site\": \"same-origin\",\n",
    "        \"sec-fetch-user\": \"?1\",\n",
    "        \"upgrade-insecure-requests\": \"1\",\n",
    "        \"user-agent\": \"Mozilla/5.0 (Linux; Android 6.0; Nexus 5 Build/MRA58N) AppleWebKit/537.36 (KHTML, like Gecko) Chrome/131.0.0.0 Mobile Safari/537.36\",\n",
    "    }\n",
    "\n",
    "    # Make the request\n",
    "    response = requests.get(url, params=params, headers=headers)\n",
    "\n",
    "    soup = BeautifulSoup(response.text, \"html.parser\")\n",
    "    card_details = soup.find_all(\"div\", class_=\"card-item-detail\")\n",
    "\n",
    "    for card in card_details:\n",
    "        title = card.find(\"a\").text\n",
    "        url = card.find(\"a\")[\"href\"]\n",
    "        desc = card.findAll(\"p\")\n",
    "        desc = \"\\n\".join([p.text for p in desc])\n",
    "\n",
    "        print(f\"Title: {title}\")\n",
    "        print(f\"URL: {url}\")\n",
    "        print(f\"Description: {desc}\")\n",
    "\n",
    "    return response\n",
    "\n",
    "\n",
    "response = search_ekatalog(\"bus\", 12)\n",
    "print(f\"Status Code: {response.status_code}\")\n",
    "print(f\"Response: {response.text}\")"
   ]
  },
  {
   "cell_type": "code",
   "execution_count": 7,
   "metadata": {},
   "outputs": [],
   "source": [
    "from bs4 import BeautifulSoup\n",
    "\n",
    "\n",
    "soup = BeautifulSoup(response.text, 'html.parser')\n",
    "    \n",
    "    # Find all card-item-detail divs\n",
    "card_details = soup.find_all('div', class_='card-item-detail')"
   ]
  },
  {
   "cell_type": "code",
   "execution_count": 23,
   "metadata": {},
   "outputs": [
    {
     "name": "stdout",
     "output_type": "stream",
     "text": [
      "Title:  pekerjaan instalasi listrik stasiun bus list...\n",
      "URL: /katalog/produk/detail/84080588?lang=id&type=regency\n",
      "Description: vies idea\n",
      "TKDN(%) : 94.37\n",
      "BMP : n/a\n",
      "TKDN + BMP : 94.37\n",
      "Kota Tangerang\n",
      "IDR 66,350,000.00\n",
      "Title:  SERVIS SEDANG BUS BESAR\n",
      "URL: /katalog/produk/detail/77010685?lang=id&type=general\n",
      "Description: CV.FAHYA PUTSYAM\n",
      "TKDN(%) : 89.37\n",
      "BMP : n/a\n",
      "TKDN + BMP : 89.37\n",
      " \n",
      "IDR 3,200,000.00\n",
      "Title:  SERVIS RINGAN BUS SEDANG\n",
      "URL: /katalog/produk/detail/77009094?lang=id&type=general\n",
      "Description: CV.FAHYA PUTSYAM\n",
      "TKDN(%) : 89.25\n",
      "BMP : n/a\n",
      "TKDN + BMP : 89.25\n",
      " \n",
      "IDR 1,750,000.00\n",
      "Title:  SERVIS SEDANG BUS SEDANG\n",
      "URL: /katalog/produk/detail/77009459?lang=id&type=general\n",
      "Description: CV.FAHYA PUTSYAM\n",
      "TKDN(%) : 89.11\n",
      "BMP : n/a\n",
      "TKDN + BMP : 89.11\n",
      " \n",
      "IDR 2,500,000.00\n",
      "Title:  OLI KOMPRESOR BUS\n",
      "URL: /katalog/produk/detail/79932846?lang=id&type=regency\n",
      "Description: CV.SAYARA REPAINT N REPAIR\n",
      "TKDN(%) : 82.55\n",
      "BMP : n/a\n",
      "TKDN + BMP : 82.55\n",
      "Kabupaten Musi Banyuasin\n",
      "IDR 281,250.00\n",
      "Title:  SERVIS BERAT BUS BESAR\n",
      "URL: /katalog/produk/detail/77010969?lang=id&type=general\n",
      "Description: CV.FAHYA PUTSYAM\n",
      "TKDN(%) : 82.09\n",
      "BMP : n/a\n",
      "TKDN + BMP : 82.09\n",
      " \n",
      "IDR 4,500,000.00\n",
      "Title:  PAKET PERAWATAN DAN PENGGANTIAN SPARE PART B...\n",
      "URL: /katalog/produk/detail/76565728?lang=id&type=regency\n",
      "Description: CV. BERDIKARI TIGA SAMUDRA\n",
      "TKDN(%) : 82.09\n",
      "BMP : n/a\n",
      "TKDN + BMP : 82.09\n",
      "Kota Batam\n",
      "IDR 34,688,000.00\n",
      "Title:  PAKET PERAWATAN DAN PENGGANTIAN SPARE PART B...\n",
      "URL: /katalog/produk/detail/76566581?lang=id&type=regency\n",
      "Description: CV. BERDIKARI TIGA SAMUDRA\n",
      "TKDN(%) : 82.09\n",
      "BMP : n/a\n",
      "TKDN + BMP : 82.09\n",
      "Kota Batam\n",
      "IDR 34,996,000.00\n",
      "Title:  PAKET PERAWATAN DAN PENGGANTIAN SPARE PART B...\n",
      "URL: /katalog/produk/detail/76566782?lang=id&type=regency\n",
      "Description: CV. BERDIKARI TIGA SAMUDRA\n",
      "TKDN(%) : 82.09\n",
      "BMP : n/a\n",
      "TKDN + BMP : 82.09\n",
      "Kota Batam\n",
      "IDR 35,062,000.00\n",
      "Title:  RAMBU BUS STOP TIANG TUNGGAL UK75x60cm\n",
      "URL: /katalog/produk/detail/84254441?lang=id&type=regency\n",
      "Description: CV SAN AMERTA ROMORA\n",
      "TKDN(%) : 76.59\n",
      "BMP : n/a\n",
      "TKDN + BMP : 76.59\n",
      "Kabupaten Badung\n",
      "IDR 2,628,450.00\n",
      "Title:  RAMBU BUS STOP TIANG TUNGGAL UK75x60cm\n",
      "URL: /katalog/produk/detail/84255878?lang=id&type=regency\n",
      "Description: CV SAN AMERTA ROMORA\n",
      "TKDN(%) : 76.59\n",
      "BMP : n/a\n",
      "TKDN + BMP : 76.59\n",
      "Kabupaten Badung\n",
      "IDR 2,628,450.00\n",
      "Title:  ATAP BUS PORTABLE\n",
      "URL: /katalog/produk/detail/76588944?lang=id&type=regency\n",
      "Description: LUMIN ENERGI UTAMA\n",
      "TKDN(%) : 76.43\n",
      "BMP : n/a\n",
      "TKDN + BMP : 76.43\n",
      "Kabupaten Banjar\n",
      "IDR 3,400,000.00 - IDR 7,400,000.00\n"
     ]
    }
   ],
   "source": [
    "for card in card_details:\n",
    "    title = card.find(\"a\").text\n",
    "    url = card.find(\"a\")[\"href\"]\n",
    "    desc = card.findAll(\"p\")\n",
    "    desc = \"\\n\".join([p.text for p in desc])\n",
    "    \n",
    "    print(f\"Title: {title}\")\n",
    "    print(f\"URL: {url}\")\n",
    "    print(f\"Description: {desc}\")\n",
    "    \n",
    "    # print(card.find(\"a\").text)"
   ]
  },
  {
   "cell_type": "code",
   "execution_count": 22,
   "metadata": {},
   "outputs": [
    {
     "data": {
      "text/plain": [
       "[<p style=\"white-space: nowrap;overflow:hidden;text-overflow:ellipsis;\">LUMIN ENERGI UTAMA</p>,\n",
       " <p style=\"white-space: nowrap;overflow:hidden;text-overflow:ellipsis;font-weight: bold\">TKDN(%) : 76.43</p>,\n",
       " <p style=\"white-space: nowrap;overflow:hidden;text-overflow:ellipsis;font-weight: bold\">BMP : n/a</p>,\n",
       " <p style=\"white-space: nowrap;overflow:hidden;text-overflow:ellipsis;font-weight: bold\">TKDN + BMP : 76.43</p>,\n",
       " <p style=\"white-space: nowrap;overflow:hidden;text-overflow:ellipsis;\">Kabupaten Banjar</p>,\n",
       " <p style=\"white-space: nowrap;overflow:hidden;text-overflow:ellipsis;\">IDR 3,400,000.00 - IDR 7,400,000.00</p>]"
      ]
     },
     "execution_count": 22,
     "metadata": {},
     "output_type": "execute_result"
    }
   ],
   "source": [
    "company"
   ]
  },
  {
   "cell_type": "code",
   "execution_count": 19,
   "metadata": {},
   "outputs": [
    {
     "data": {
      "text/plain": [
       "<div class=\"card-item-detail\" style=\"height: 100%;\">\n",
       "<div class=\"card-item-title\" style=\"margin-bottom: 2px;height: 22px;background: #cd7c89;border-radius: 50px;padding-top: 2px;\">\n",
       "<span style=\"background-image: url('/public/images/pdn.gif');background-repeat: no-repeat;background-size: 19px;padding: 12px;background-position: 4px;\" title=\"Produk Dalam Negeri\"></span>\n",
       "<span style=\"background-image: url('/public/images/verified_vendor.gif');background-repeat: no-repeat;background-size: 19px;padding: 12px;background-position: 4px;\" title=\"Verified Vendor\"></span>\n",
       "</div>\n",
       "<div class=\"card-item-title\">\n",
       "<a data-placement=\"bottom\" data-toggle=\"tooltip\" href=\"/katalog/produk/detail/76588944?lang=id&amp;type=regency\" title=\" ATAP BUS PORTABLE\"> ATAP BUS PORTABLE</a>\n",
       "</div>\n",
       "<div class=\"card-item-description\">\n",
       "<p style=\"white-space: nowrap;overflow:hidden;text-overflow:ellipsis;\">LUMIN ENERGI UTAMA</p>\n",
       "<p style=\"white-space: nowrap;overflow:hidden;text-overflow:ellipsis;font-weight: bold\">TKDN(%) : 76.43</p>\n",
       "<p style=\"white-space: nowrap;overflow:hidden;text-overflow:ellipsis;font-weight: bold\">BMP : n/a</p>\n",
       "<p style=\"white-space: nowrap;overflow:hidden;text-overflow:ellipsis;font-weight: bold\">TKDN + BMP : 76.43</p>\n",
       "<p style=\"white-space: nowrap;overflow:hidden;text-overflow:ellipsis;\">Kabupaten Banjar</p>\n",
       "<p style=\"white-space: nowrap;overflow:hidden;text-overflow:ellipsis;\">IDR 3,400,000.00 - IDR 7,400,000.00</p>\n",
       "</div>\n",
       "<div class=\"text-center\">\n",
       "<hr/>\n",
       "<h5>Bagikan</h5>\n",
       "</div>\n",
       "<div class=\"text-center\">\n",
       "<a class=\"btn btn-info\" href=\"https://web.facebook.com/sharer/sharer.php\" onclick=\"javascript:window.open(this.href+'?u='+'/katalog/produk/detail/76588944?lang=id&amp;type=regency',\n",
       "                       '_blank', 'menubar=no,toolbar=no,resizable=no,scrollbars=yes,height=350,width=350');\n",
       "                       return false;\" style=\"width: 20%\">\n",
       "<i aria-hidden=\"true\" class=\"fa fa-facebook\"></i>\n",
       "</a>\n",
       "<a class=\"btn btn-primary\" href=\"https://twitter.com/intent/tweet\" onclick=\"javascript:window.open(this.href+'?url='+'/katalog/produk/detail/76588944?lang=id&amp;type=regency',\n",
       "                       '_blank', 'menubar=no,toolbar=no,resizable=no,scrollbars=yes,height=350,width=350');\n",
       "                       return false;\" style=\"width: 20%\">\n",
       "<i aria-hidden=\"true\" class=\"fa fa-twitter\"></i>\n",
       "</a>\n",
       "</div>\n",
       "</div>"
      ]
     },
     "execution_count": 19,
     "metadata": {},
     "output_type": "execute_result"
    }
   ],
   "source": [
    "card"
   ]
  },
  {
   "cell_type": "code",
   "execution_count": null,
   "metadata": {},
   "outputs": [],
   "source": []
  }
 ],
 "metadata": {
  "kernelspec": {
   "display_name": ".venv",
   "language": "python",
   "name": "python3"
  },
  "language_info": {
   "codemirror_mode": {
    "name": "ipython",
    "version": 3
   },
   "file_extension": ".py",
   "mimetype": "text/x-python",
   "name": "python",
   "nbconvert_exporter": "python",
   "pygments_lexer": "ipython3",
   "version": "3.11.6"
  }
 },
 "nbformat": 4,
 "nbformat_minor": 2
}
