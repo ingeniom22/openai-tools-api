{
 "cells": [
  {
   "cell_type": "code",
   "execution_count": 24,
   "metadata": {},
   "outputs": [
    {
     "name": "stdout",
     "output_type": "stream",
     "text": [
      "[{'title': ' pekerjaan instalasi listrik stasiun bus list...', 'url': '/katalog/produk/detail/84080588?lang=id&type=regency', 'desc': 'vies idea\\nTKDN(%) : 94.37\\nBMP : n/a\\nTKDN + BMP : 94.37\\nKota Tangerang\\nIDR 66,350,000.00'}, {'title': ' SERVIS SEDANG BUS BESAR', 'url': '/katalog/produk/detail/77010685?lang=id&type=general', 'desc': 'CV.FAHYA PUTSYAM\\nTKDN(%) : 89.37\\nBMP : n/a\\nTKDN + BMP : 89.37\\n\\xa0\\nIDR 3,200,000.00'}, {'title': ' SERVIS RINGAN BUS SEDANG', 'url': '/katalog/produk/detail/77009094?lang=id&type=general', 'desc': 'CV.FAHYA PUTSYAM\\nTKDN(%) : 89.25\\nBMP : n/a\\nTKDN + BMP : 89.25\\n\\xa0\\nIDR 1,750,000.00'}, {'title': ' SERVIS SEDANG BUS SEDANG', 'url': '/katalog/produk/detail/77009459?lang=id&type=general', 'desc': 'CV.FAHYA PUTSYAM\\nTKDN(%) : 89.11\\nBMP : n/a\\nTKDN + BMP : 89.11\\n\\xa0\\nIDR 2,500,000.00'}, {'title': ' OLI KOMPRESOR BUS', 'url': '/katalog/produk/detail/79932846?lang=id&type=regency', 'desc': 'CV.SAYARA REPAINT N REPAIR\\nTKDN(%) : 82.55\\nBMP : n/a\\nTKDN + BMP : 82.55\\nKabupaten Musi Banyuasin\\nIDR 281,250.00'}, {'title': ' SERVIS BERAT BUS BESAR', 'url': '/katalog/produk/detail/77010969?lang=id&type=general', 'desc': 'CV.FAHYA PUTSYAM\\nTKDN(%) : 82.09\\nBMP : n/a\\nTKDN + BMP : 82.09\\n\\xa0\\nIDR 4,500,000.00'}, {'title': ' PAKET PERAWATAN DAN PENGGANTIAN SPARE PART B...', 'url': '/katalog/produk/detail/76565728?lang=id&type=regency', 'desc': 'CV. BERDIKARI TIGA SAMUDRA\\nTKDN(%) : 82.09\\nBMP : n/a\\nTKDN + BMP : 82.09\\nKota Batam\\nIDR 34,688,000.00'}, {'title': ' PAKET PERAWATAN DAN PENGGANTIAN SPARE PART B...', 'url': '/katalog/produk/detail/76566581?lang=id&type=regency', 'desc': 'CV. BERDIKARI TIGA SAMUDRA\\nTKDN(%) : 82.09\\nBMP : n/a\\nTKDN + BMP : 82.09\\nKota Batam\\nIDR 34,996,000.00'}, {'title': ' PAKET PERAWATAN DAN PENGGANTIAN SPARE PART B...', 'url': '/katalog/produk/detail/76566782?lang=id&type=regency', 'desc': 'CV. BERDIKARI TIGA SAMUDRA\\nTKDN(%) : 82.09\\nBMP : n/a\\nTKDN + BMP : 82.09\\nKota Batam\\nIDR 35,062,000.00'}, {'title': ' RAMBU BUS STOP TIANG TUNGGAL UK75x60cm', 'url': '/katalog/produk/detail/84254441?lang=id&type=regency', 'desc': 'CV SAN AMERTA ROMORA\\nTKDN(%) : 76.59\\nBMP : n/a\\nTKDN + BMP : 76.59\\nKabupaten Badung\\nIDR 2,628,450.00'}, {'title': ' RAMBU BUS STOP TIANG TUNGGAL UK75x60cm', 'url': '/katalog/produk/detail/84255878?lang=id&type=regency', 'desc': 'CV SAN AMERTA ROMORA\\nTKDN(%) : 76.59\\nBMP : n/a\\nTKDN + BMP : 76.59\\nKabupaten Badung\\nIDR 2,628,450.00'}, {'title': ' ATAP BUS PORTABLE', 'url': '/katalog/produk/detail/76588944?lang=id&type=regency', 'desc': 'LUMIN ENERGI UTAMA\\nTKDN(%) : 76.43\\nBMP : n/a\\nTKDN + BMP : 76.43\\nKabupaten Banjar\\nIDR 3,400,000.00 - IDR 7,400,000.00'}]\n"
     ]
    }
   ],
   "source": [
    "from bs4 import BeautifulSoup\n",
    "import requests\n",
    "\n",
    "\n",
    "def search_ekatalog(query: str) -> list:\n",
    "    url = \"https://e-katalog.lkpp.go.id/id/search-produk\"\n",
    "\n",
    "    # Query parameters\n",
    "    params = {\"q\": query, \"order\": \"relevance\", \"limit\": \"100\", \"offset\": \"0\"}\n",
    "\n",
    "    # Headers\n",
    "    headers = {\n",
    "        \"authority\": \"e-katalog.lkpp.go.id\",\n",
    "        \"accept\": \"text/html,application/xhtml+xml,application/xml;q=0.9,image/avif,image/webp,image/apng,*/*;q=0.8,application/signed-exchange;v=b3;q=0.7\",\n",
    "        \"accept-encoding\": \"gzip, deflate, br, zstd\",\n",
    "        \"accept-language\": \"en-US,en;q=0.9,id;q=0.8\",\n",
    "        \"cache-control\": \"max-age=0\",\n",
    "        \"priority\": \"u=0, i\",\n",
    "        \"referer\": f\"https://e-katalog.lkpp.go.id/id/search-produk?q={query}&order=relevance\",\n",
    "        \"sec-ch-ua\": '\"Google Chrome\";v=\"131\", \"Chromium\";v=\"131\", \"Not_A Brand\";v=\"24\"',\n",
    "        \"sec-ch-ua-mobile\": \"?1\",\n",
    "        \"sec-ch-ua-platform\": '\"Android\"',\n",
    "        \"sec-fetch-dest\": \"document\",\n",
    "        \"sec-fetch-mode\": \"navigate\",\n",
    "        \"sec-fetch-site\": \"same-origin\",\n",
    "        \"sec-fetch-user\": \"?1\",\n",
    "        \"upgrade-insecure-requests\": \"1\",\n",
    "        \"user-agent\": \"Mozilla/5.0 (Linux; Android 6.0; Nexus 5 Build/MRA58N) AppleWebKit/537.36 (KHTML, like Gecko) Chrome/131.0.0.0 Mobile Safari/537.36\",\n",
    "    }\n",
    "\n",
    "    # Make the request\n",
    "    response = requests.get(url, params=params, headers=headers)\n",
    "\n",
    "    soup = BeautifulSoup(response.text, \"html.parser\")\n",
    "    card_details = soup.find_all(\"div\", class_=\"card-item-detail\")\n",
    "\n",
    "    results = []\n",
    "\n",
    "    for card in card_details:\n",
    "        title = card.find(\"a\").text\n",
    "        url = card.find(\"a\")[\"href\"]\n",
    "        desc = card.findAll(\"p\")\n",
    "        desc = \"\\n\".join([p.text for p in desc])\n",
    "\n",
    "        results.append({\"title\": title, \"url\": url, \"desc\": desc})\n",
    "\n",
    "    return results\n",
    "\n",
    "\n",
    "results = search_ekatalog(\"bus\")\n",
    "print(results)\n",
    "# print(f\"Status Code: {response.status_code}\")\n",
    "# print(f\"Response: {response.text}\")"
   ]
  }
 ],
 "metadata": {
  "kernelspec": {
   "display_name": ".venv",
   "language": "python",
   "name": "python3"
  },
  "language_info": {
   "codemirror_mode": {
    "name": "ipython",
    "version": 3
   },
   "file_extension": ".py",
   "mimetype": "text/x-python",
   "name": "python",
   "nbconvert_exporter": "python",
   "pygments_lexer": "ipython3",
   "version": "3.11.6"
  }
 },
 "nbformat": 4,
 "nbformat_minor": 2
}
